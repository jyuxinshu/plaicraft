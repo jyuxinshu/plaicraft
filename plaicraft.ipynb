{
 "cells": [
  {
   "cell_type": "markdown",
   "id": "ca80dada",
   "metadata": {},
   "source": [
    "# Our Boss Group Project 🩷\n",
    "\n",
    "Miyuki, Jane, Rachel & Meg"
   ]
  }
 ],
 "metadata": {
  "kernelspec": {
   "display_name": "R",
   "language": "R",
   "name": "ir"
  },
  "language_info": {
   "codemirror_mode": "r",
   "file_extension": ".r",
   "mimetype": "text/x-r-source",
   "name": "R",
   "pygments_lexer": "r",
   "version": "4.3.3"
  }
 },
 "nbformat": 4,
 "nbformat_minor": 5
}
