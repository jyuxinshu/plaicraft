{
 "cells": [
  {
   "cell_type": "markdown",
   "id": "ca80dada",
   "metadata": {},
   "source": [
    "# DSCI 100 Project Final Report\n",
    "\n",
    "Miyuki, Jane, Rachel & Meg"
   ]
  },
  {
   "cell_type": "markdown",
   "id": "85a39527-7f02-4214-b90f-eb484a4f7b42",
   "metadata": {},
   "source": [
    "### Introduction\n",
    "\n"
   ]
  },
  {
   "cell_type": "markdown",
   "id": "c06d53d2-c9c5-4f9d-857d-1d493dece92d",
   "metadata": {},
   "source": [
    "pls help"
   ]
  },
  {
   "cell_type": "markdown",
   "id": "6443f391-5f32-4199-9cc6-6922e775ea3a",
   "metadata": {},
   "source": [
    "### Methods and Results"
   ]
  },
  {
   "cell_type": "markdown",
   "id": "7056c581-82d2-4af0-a346-8036d1c3b7f5",
   "metadata": {},
   "source": [
    "### Discussion"
   ]
  },
  {
   "cell_type": "markdown",
   "id": "a191e052-d679-47b0-a6b1-209fee4d8029",
   "metadata": {},
   "source": [
    "### References"
   ]
  }
 ],
 "metadata": {
  "kernelspec": {
   "display_name": "R",
   "language": "R",
   "name": "ir"
  },
  "language_info": {
   "codemirror_mode": "r",
   "file_extension": ".r",
   "mimetype": "text/x-r-source",
   "name": "R",
   "pygments_lexer": "r",
   "version": "4.3.3"
  }
 },
 "nbformat": 4,
 "nbformat_minor": 5
}
