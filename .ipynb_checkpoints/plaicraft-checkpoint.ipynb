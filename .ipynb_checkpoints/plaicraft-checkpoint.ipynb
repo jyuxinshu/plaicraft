{
 "cells": [
  {
   "cell_type": "code",
   "execution_count": null,
   "id": "4183648d-b229-4c7b-8512-56dbce100187",
   "metadata": {},
   "outputs": [],
   "source": [
    "hello"
   ]
  },
  {
   "cell_type": "markdown",
   "id": "3eb277cd-8d11-4d99-b448-216836f97f62",
   "metadata": {},
   "source": [
    "hi"
   ]
  }
 ],
 "metadata": {
  "kernelspec": {
   "display_name": "R",
   "language": "R",
   "name": "ir"
  },
  "language_info": {
   "codemirror_mode": "r",
   "file_extension": ".r",
   "mimetype": "text/x-r-source",
   "name": "R",
   "pygments_lexer": "r",
   "version": "4.3.3"
  }
 },
 "nbformat": 4,
 "nbformat_minor": 5
}
